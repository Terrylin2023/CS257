{
 "cells": [
  {
   "cell_type": "code",
   "execution_count": 223,
   "metadata": {},
   "outputs": [
    {
     "name": "stdout",
     "output_type": "stream",
     "text": [
      "   sepal_length  sepal_width  petal_length  petal_width      species\n",
      "0           5.1          3.5           1.4          0.2  Iris-setosa\n",
      "1           4.9          3.0           1.4          0.2  Iris-setosa\n",
      "2           4.7          3.2           1.3          0.2  Iris-setosa\n",
      "3           4.6          3.1           1.5          0.2  Iris-setosa\n",
      "4           5.0          3.6           1.4          0.2  Iris-setosa\n"
     ]
    }
   ],
   "source": [
    "import numpy as np\n",
    "import pandas as pd\n",
    "import matplotlib.pyplot as plt\n",
    "from sklearn.datasets import load_iris\n",
    "from sklearn.preprocessing import normalize, LabelEncoder\n",
    "from sklearn.model_selection import train_test_split\n",
    "\n",
    "# Load the Iris dataset\n",
    "columns = [\"sepal_length\", \"sepal_width\", \"petal_length\", \"petal_width\", \"species\"]\n",
    "file_path = \"/Users/terrylin/Desktop/2025 Winter/CS257/code/CS257/iris/iris.data\"\n",
    "iris = pd.read_csv(file_path, names=columns)\n",
    "\n",
    "# Display the first few rows\n",
    "print(iris.head())"
   ]
  },
  {
   "cell_type": "code",
   "execution_count": 224,
   "metadata": {},
   "outputs": [
    {
     "name": "stdout",
     "output_type": "stream",
     "text": [
      "Train: (105, 4), Validation: (22, 4), Test: (23, 4)\n"
     ]
    }
   ],
   "source": [
    "# Convet species to numerical values\n",
    "le = LabelEncoder()\n",
    "iris['species'] = le.fit_transform(iris['species'])\n",
    "\n",
    "X = iris.iloc[:, :-1].values  # Features\n",
    "y = iris.iloc[:, -1].values  # Target variable\n",
    "# Normalize the features\n",
    "X = normalize(X, norm = 'l2')\n",
    "\n",
    "# Split the dataset into train, validation, and test sets.\n",
    "X_train, X_temp, y_train, y_temp = train_test_split(X, y, test_size=0.3, random_state=42)\n",
    "X_val, X_test, y_val, y_test = train_test_split(X_temp, y_temp, test_size=0.5, random_state=42)\n",
    "# Display dataset sizes\n",
    "print(f\"Train: {X_train.shape}, Validation: {X_val.shape}, Test: {X_test.shape}\")\n"
   ]
  },
  {
   "cell_type": "code",
   "execution_count": 225,
   "metadata": {},
   "outputs": [
    {
     "name": "stdout",
     "output_type": "stream",
     "text": [
      "Original shape: (105, 4), RFF shape: (105, 1000)\n"
     ]
    }
   ],
   "source": [
    "# RFF\n",
    "def feature_encoding(X,D,alpha=1):\n",
    "    np.random.seed(42)\n",
    "\n",
    "    d= X.shape[1]\n",
    "    # Generate random weights\n",
    "    W = np.random.normal (0,np.sqrt(alpha),(d,D))\n",
    "\n",
    "    # Generate random hase shifts b\n",
    "    b = np.random.uniform (0,2*np.pi,D)\n",
    "\n",
    "    # Compute RFF\n",
    "    Z = np.sqrt(2/D) * np.cos(np.dot(X,W) + b)\n",
    "\n",
    "    return Z\n",
    "\n",
    "# Feature encoding\n",
    "D = 1000\n",
    "\n",
    "X_train_rff = feature_encoding(X_train, D)\n",
    "X_val_rff = feature_encoding(X_val, D)\n",
    "X_test_rff = feature_encoding(X_test, D)\n",
    "# Display the shape of the transformed datasets\n",
    "print(f\"Original shape: {X_train.shape}, RFF shape: {X_train_rff.shape}\")"
   ]
  },
  {
   "cell_type": "code",
   "execution_count": 226,
   "metadata": {},
   "outputs": [
    {
     "name": "stdout",
     "output_type": "stream",
     "text": [
      "Train Accuracy: 0.6095\n",
      "Validation Accuracy: 0.3636\n",
      "Test Accuracy: 0.6522\n"
     ]
    }
   ],
   "source": [
    "# Initialize class hypervectors\n",
    "num_classes = len(np.unique(y_train))\n",
    "class_hypervectors = np.zeros((num_classes, D))\n",
    "\n",
    "# Single-Pass fit over the training dataset\n",
    "for i in range(len(X_train_rff)):\n",
    "    label = y_train[i]\n",
    "    class_hypervectors[label] += X_train_rff[i]\n",
    "\n",
    "\n",
    "# Inference\n",
    "def predict(X, class_hypervectors):\n",
    "    # Compute the cosine similarity between the input and class hypervectors\n",
    "    similarities = np.dot(X, class_hypervectors.T)\n",
    "    # Get the index of the class with the highest similarity\n",
    "    predictions = np.argmax(similarities, axis=1)\n",
    "    return predictions\n",
    "\n",
    "# Evaluate performance\n",
    "def evaluate(X_train_rff,X_val_rff,X_test_rff,y_train,y_val,y_test,class_hypervectors):\n",
    "    \n",
    "    predictions_train = predict(X_train_rff, class_hypervectors)\n",
    "    predictions_val = predict(X_val_rff, class_hypervectors)\n",
    "    predictions_test = predict(X_test_rff, class_hypervectors)\n",
    "\n",
    "    # Calculate accuracy\n",
    "    accuracy_train = np.mean(predictions_train == y_train)\n",
    "    accuracy_val = np.mean(predictions_val == y_val)\n",
    "    accuracy_test = np.mean(predictions_test == y_test)\n",
    "\n",
    "    print(f\"Train Accuracy: {accuracy_train:.4f}\")\n",
    "    print(f\"Validation Accuracy: {accuracy_val:.4f}\")\n",
    "    print(f\"Test Accuracy: {accuracy_test:.4f}\")\n",
    "\n",
    "    return accuracy_train, accuracy_val, accuracy_test\n",
    "\n",
    "# accuracy\n",
    "accuracy_train, accuracy_val, accuracy_test = evaluate(X_train_rff, X_val_rff, X_test_rff, y_train, y_val, y_test, class_hypervectors)\n"
   ]
  },
  {
   "cell_type": "code",
   "execution_count": 227,
   "metadata": {},
   "outputs": [
    {
     "name": "stdout",
     "output_type": "stream",
     "text": [
      "Epoch 1/10, Misclassified samples: 40\n",
      "Epoch 2/10, Misclassified samples: 12\n",
      "Epoch 3/10, Misclassified samples: 14\n",
      "Epoch 4/10, Misclassified samples: 10\n",
      "Epoch 5/10, Misclassified samples: 10\n",
      "Epoch 6/10, Misclassified samples: 10\n",
      "Epoch 7/10, Misclassified samples: 10\n",
      "Epoch 8/10, Misclassified samples: 10\n",
      "Epoch 9/10, Misclassified samples: 10\n",
      "Epoch 10/10, Misclassified samples: 8\n",
      "Train Accuracy: 0.9619\n",
      "Validation Accuracy: 1.0000\n",
      "Test Accuracy: 0.9565\n"
     ]
    }
   ],
   "source": [
    "# Perform iterative learning over the dataset\n",
    "def iterative_learning(X_train_rff, y_train, class_hypervectors, num_iterations=10,learning_rate=0.1):\n",
    "    num_classes = len(np.unique(y_train))\n",
    "\n",
    "    for epoch in range(num_iterations):\n",
    "        num_misclassified = 0\n",
    "\n",
    "        for i in range(len(X_train_rff)):\n",
    "            sample_rff = X_train_rff[i]\n",
    "            label = y_train[i]\n",
    "            # Compute similarities\n",
    "            similarities = np.dot(sample_rff, class_hypervectors.T)\n",
    "\n",
    "            # Get the predicted class\n",
    "            predicted_class = np.argmax(similarities)\n",
    "            # Check if the sample is misclassified\n",
    "            if predicted_class != label:\n",
    "                num_misclassified += 1\n",
    "                # Update the class hypervector\n",
    "                class_hypervectors[label] += sample_rff * learning_rate\n",
    "                class_hypervectors[predicted_class] -= sample_rff * learning_rate\n",
    "                \n",
    "        # Print the number of misclassified samples\n",
    "        print(f\"Epoch {epoch+1}/{num_iterations}, Misclassified samples: {num_misclassified}\")\n",
    "    return class_hypervectors\n",
    "# Perform iterative learning\n",
    "class_hypervectors = iterative_learning(X_train_rff, y_train, class_hypervectors, num_iterations=10,learning_rate=0.1)\n",
    "# Evaluate performance after iterative learning\n",
    "accuracy_train, accuracy_val, accuracy_test = evaluate(X_train_rff, X_val_rff, X_test_rff, y_train, y_val, y_test, class_hypervectors)"
   ]
  },
  {
   "cell_type": "code",
   "execution_count": 228,
   "metadata": {},
   "outputs": [
    {
     "name": "stdout",
     "output_type": "stream",
     "text": [
      "Epoch 1, Misclassified samples: 21, Validation Accuracy: 0.8636\n",
      "Epoch 2, Misclassified samples: 48, Validation Accuracy: 0.8636\n",
      "Epoch 3, Misclassified samples: 34, Validation Accuracy: 1.0000\n",
      "Epoch 4, Misclassified samples: 8, Validation Accuracy: 1.0000\n",
      "Epoch 5, Misclassified samples: 8, Validation Accuracy: 1.0000\n",
      "Epoch 6, Misclassified samples: 8, Validation Accuracy: 1.0000\n",
      "Epoch 7, Misclassified samples: 8, Validation Accuracy: 1.0000\n",
      "Epoch 8, Misclassified samples: 8, Validation Accuracy: 1.0000\n",
      "Early stopping at epoch 8.\n"
     ]
    }
   ],
   "source": [
    "# Early Stopping \n",
    "def iterative_learning_earlystop(X_train_rff, y_train, X_val_rff, y_val, X_test_rff, y_test, class_hypervectors, num_epochs=50, patience=5):\n",
    "    num_classes = len(np.unique(y_train))\n",
    "    best_val_accuracy = 0\n",
    "    best_class_hypervectors = class_hypervectors.copy()\n",
    "    patience_count = 0\n",
    "\n",
    "    all_accuracies = {\"train:\": [], \"val\": [], \"test\": []}\n",
    "\n",
    "    for epoch in range(100):  # Arbitrary large number of epochs\n",
    "        num_misclassified = 0\n",
    "\n",
    "        for i in range(len(X_train_rff)):\n",
    "            sample_rff = X_train_rff[i]\n",
    "            label = y_train[i]\n",
    "            # Compute similarities\n",
    "            similarities = np.dot(sample_rff, class_hypervectors.T)\n",
    "            # Get the predicted class\n",
    "            predicted_class = np.argmax(similarities)\n",
    "            # Check if the sample is misclassified\n",
    "            if predicted_class != label:\n",
    "                num_misclassified += 1\n",
    "                # Update the class hypervector\n",
    "                class_hypervectors[label] += sample_rff\n",
    "                class_hypervectors[predicted_class] -= sample_rff\n",
    "                \n",
    "        # Evaluate on validation set\n",
    "        train_accuracy = np.mean(predict(X_train_rff, class_hypervectors) == y_train)\n",
    "        val_accuracy = np.mean(predict(X_val_rff, class_hypervectors) == y_val)\n",
    "        test_accuracy = np.mean(predict(X_test_rff, class_hypervectors) == y_test)\n",
    "        print(f\"Epoch {epoch+1}, Misclassified samples: {num_misclassified}, Validation Accuracy: {val_accuracy:.4f}\")\n",
    "\n",
    "        all_accuracies[\"train:\"].append(train_accuracy)\n",
    "        all_accuracies[\"val\"].append(val_accuracy)\n",
    "        all_accuracies[\"test\"].append(test_accuracy)\n",
    "\n",
    "    \n",
    "        if val_accuracy > best_val_accuracy:\n",
    "            best_val_accuracy = val_accuracy\n",
    "            best_class_hypervectors = class_hypervectors.copy()\n",
    "            patience_count = 0\n",
    "        else:\n",
    "            patience_count += 1\n",
    "\n",
    "        # Early stopping condition\n",
    "        if patience_count >= patience:\n",
    "            print(f\"Early stopping at epoch {epoch+1}.\")\n",
    "            break\n",
    "\n",
    "    return best_class_hypervectors, all_accuracies\n",
    "# Perform iterative learning with early stopping\n",
    "best_class_hypervectors, all_accuracies = iterative_learning_earlystop(\n",
    "    X_train_rff, y_train, X_val_rff, y_val, X_test_rff, y_test, class_hypervectors,num_epochs=100, patience=5)\n"
   ]
  },
  {
   "cell_type": "code",
   "execution_count": 229,
   "metadata": {},
   "outputs": [
    {
     "data": {
      "image/png": "[encoded data removed]",
      "text/plain": [
       "<Figure size 1200x600 with 1 Axes>"
      ]
     },
     "metadata": {},
     "output_type": "display_data"
    }
   ],
   "source": [
    "# Plotting the accuracies\n",
    "plt.figure(figsize=(12, 6))\n",
    "plt.plot(all_accuracies[\"train:\"], label='Train Accuracy')\n",
    "plt.plot(all_accuracies[\"val\"], label='Validation Accuracy')\n",
    "plt.plot(all_accuracies[\"test\"], label='Test Accuracy')\n",
    "plt.xlabel('Epochs')\n",
    "plt.ylabel('Accuracy')\n",
    "plt.title('Training, Validation, and Test Accuracies Over Epochs')\n",
    "plt.legend()\n",
    "plt.grid()\n",
    "plt.show()\n"
   ]
  }
 ],
 "metadata": {
  "language_info": {
   "name": "python"
  }
 },
 "nbformat": 4,
 "nbformat_minor": 2
}
